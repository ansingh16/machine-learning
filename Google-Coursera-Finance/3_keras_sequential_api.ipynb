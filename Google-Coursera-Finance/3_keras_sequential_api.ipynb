{
 "cells": [
  {
   "cell_type": "markdown",
   "metadata": {},
   "source": [
    "# Introducing the Keras Sequential API on Vertex AI Platform"
   ]
  },
  {
   "cell_type": "markdown",
   "metadata": {},
   "source": [
    "**Learning objectives**\n",
    "  1. Build a DNN model using the Keras Sequential API\n",
    "  1. Learn how to use feature columns in a Keras model\n",
    "  1. Learn how to train a model with Keras\n",
    "  1. Learn how to save/load, and deploy a Keras model on GCP\n",
    "  1. Learn how to deploy the Model to Vertex AI and make predictions with the Keras model"
   ]
  },
  {
   "cell_type": "markdown",
   "metadata": {},
   "source": [
    "## Introduction"
   ]
  },
  {
   "cell_type": "markdown",
   "metadata": {},
   "source": [
    "The [Keras sequential API](https://keras.io/models/sequential/) allows you to create Tensorflow models layer-by-layer. This is useful for building most kinds of machine learning models but it does not allow you to create models that share layers, re-use layers or have multiple inputs or outputs. \n",
    "\n",
    "In this lab, we'll see how to build a simple deep neural network model using the Keras sequential api and feature columns. Once we have trained our model, we will deploy it using Vertex AI and see how to call our model for online prediciton.\n",
    "\n",
    "Each learning objective will correspond to a __#TODO__ in the [student lab notebook](../labs/3_keras_sequential_api.ipynb) -- try to complete that notebook first before reviewing this solution notebook.\n"
   ]
  },
  {
   "cell_type": "markdown",
   "metadata": {},
   "source": [
    "**Note:** Please restart the kernel by clicking **Kernel > Restart Kernel**"
   ]
  },
  {
   "cell_type": "markdown",
   "metadata": {},
   "source": [
    "Start by importing the necessary libraries for this lab."
   ]
  },
  {
   "cell_type": "code",
   "execution_count": 20,
   "metadata": {},
   "outputs": [
    {
     "name": "stdout",
     "output_type": "stream",
     "text": [
      "2.10.0\n"
     ]
    }
   ],
   "source": [
    "import datetime\n",
    "import os\n",
    "import shutil\n",
    "\n",
    "import numpy as np\n",
    "import pandas as pd\n",
    "import tensorflow as tf\n",
    "# from google.cloud import aiplatform\n",
    "from matplotlib import pyplot as plt\n",
    "from tensorflow import keras\n",
    "from tensorflow.keras.callbacks import TensorBoard\n",
    "from tensorflow.keras.layers import Dense, DenseFeatures\n",
    "from tensorflow.keras.models import Sequential\n",
    "\n",
    "print(tf.__version__)\n",
    "%matplotlib inline"
   ]
  },
  {
   "cell_type": "markdown",
   "metadata": {},
   "source": [
    "## Load raw data"
   ]
  },
  {
   "cell_type": "markdown",
   "metadata": {},
   "source": [
    "We will use the taxifare dataset, using the CSV files that we created in the first notebook of this sequence. Those files have been saved into `../data`."
   ]
  },
  {
   "cell_type": "code",
   "execution_count": null,
   "metadata": {},
   "outputs": [
    {
     "name": "stdout",
     "output_type": "stream",
     "text": [
      "/usr/bin/zsh: /home/ankit/miniconda3/envs/ML/lib/libncursesw.so.6: no version information available (required by /usr/bin/zsh)\n",
      "-rw-r--r-- 1 ankit ankit  61473 Dec 13 17:50 ../toy_data/taxi-test.csv\n",
      "-rw-r--r-- 1 ankit ankit 288831 Dec 13 17:50 ../toy_data/taxi-train.csv\n",
      "-rw-r--r-- 1 ankit ankit  61082 Dec 13 17:50 ../toy_data/taxi-valid.csv\n"
     ]
    }
   ],
   "source": [
    "!ls -l ../toy_data/*.csv"
   ]
  },
  {
   "cell_type": "code",
   "execution_count": null,
   "metadata": {},
   "outputs": [
    {
     "name": "stdout",
     "output_type": "stream",
     "text": [
      "/usr/bin/zsh: /home/ankit/miniconda3/envs/ML/lib/libncursesw.so.6: no version information available (required by /usr/bin/zsh)\n",
      "==> ../toy_data/taxi-test.csv <==\n",
      "6.0,2013-03-27 03:35:00 UTC,-73.977672,40.784052,-73.965332,40.801025,2,0\n",
      "19.3,2012-05-10 18:43:16 UTC,-73.954366,40.778924,-74.004094,40.723104,1,1\n",
      "7.5,2014-05-20 23:09:00 UTC,-73.999165,40.738377,-74.003473,40.723862,2,2\n",
      "12.5,2015-02-23 19:51:31 UTC,-73.9652099609375,40.76948165893555,-73.98949432373047,40.739742279052734,1,3\n",
      "10.9,2011-03-19 03:32:00 UTC,-73.99259,40.742957,-73.989908,40.711053,1,4\n",
      "7.0,2012-09-18 12:51:11 UTC,-73.971195,40.751566,-73.975922,40.756361,1,5\n",
      "19.0,2014-05-20 23:09:00 UTC,-73.998392,40.74517,-73.939845,40.74908,1,6\n",
      "8.9,2012-07-18 08:46:08 UTC,-73.997638,40.756541,-73.973303,40.762019,1,7\n",
      "4.5,2010-07-11 20:39:08 UTC,-73.976738,40.751321,-73.986671,40.74883,1,8\n",
      "7.0,2013-12-12 02:16:40 UTC,-73.985024,40.767537,-73.981273,40.779302,1,9\n",
      "\n",
      "==> ../toy_data/taxi-train.csv <==\n",
      "11.3,2011-01-28 20:42:59 UTC,-73.999022,40.739146,-73.990369,40.717866,1,0\n",
      "7.7,2011-06-27 04:28:06 UTC,-73.987443,40.729221,-73.979013,40.758641,1,1\n",
      "10.5,2011-04-03 00:54:53 UTC,-73.982539,40.735725,-73.954797,40.778388,1,2\n",
      "16.2,2009-04-10 04:11:56 UTC,-74.001945,40.740505,-73.91385,40.758559,1,3\n",
      "33.5,2014-02-24 18:22:00 UTC,-73.993372,40.753382,-73.8609,40.732897,2,4\n",
      "6.9,2011-12-10 00:25:23 UTC,-73.996237,40.721848,-73.989416,40.718052,1,5\n",
      "6.1,2012-09-01 14:30:19 UTC,-73.977048,40.758461,-73.984899,40.744693,2,6\n",
      "9.5,2012-11-08 13:28:07 UTC,-73.969402,40.757545,-73.950049,40.776079,1,7\n",
      "9.0,2014-07-15 11:37:25 UTC,-73.979318,40.760949,-73.95767,40.773724,1,8\n",
      "3.3,2009-11-09 18:06:58 UTC,-73.955675,40.779154,-73.961172,40.772368,1,9\n",
      "\n",
      "==> ../toy_data/taxi-valid.csv <==\n",
      "5.3,2012-01-03 19:21:35 UTC,-73.962627,40.763214,-73.973485,40.753353,1,0\n",
      "25.3,2010-09-27 07:30:15 UTC,-73.965799,40.794243,-73.927134,40.852261,3,1\n",
      "27.5,2015-05-19 00:40:02 UTC,-73.86344146728516,40.76899719238281,-73.96058654785156,40.76129913330078,1,2\n",
      "5.7,2010-04-29 12:28:00 UTC,-73.989255,40.738912,-73.97558,40.749172,1,3\n",
      "11.5,2013-06-23 06:08:09 UTC,-73.99731,40.763735,-73.955657,40.768141,1,4\n",
      "18.0,2014-10-14 18:52:03 UTC,-73.997995,40.761638,-74.008985,40.712442,1,5\n",
      "4.9,2010-04-29 12:28:00 UTC,-73.977315,40.766182,-73.970845,40.761462,5,6\n",
      "32.33,2014-02-24 18:22:00 UTC,-73.985358,40.761352,-73.92427,40.699145,1,7\n",
      "17.0,2015-03-26 02:48:58 UTC,-73.93981170654297,40.846473693847656,-73.97361755371094,40.786983489990234,1,8\n",
      "12.5,2013-04-09 09:39:13 UTC,-73.977323,40.753934,-74.00719,40.741472,1,9\n"
     ]
    }
   ],
   "source": [
    "!head ../toy_data/taxi*.csv"
   ]
  },
  {
   "cell_type": "markdown",
   "metadata": {},
   "source": [
    "## Use tf.data to read the CSV files"
   ]
  },
  {
   "cell_type": "markdown",
   "metadata": {},
   "source": [
    "We wrote these functions for reading data from the csv files above in the [previous notebook](./2a_dataset_api.ipynb)."
   ]
  },
  {
   "cell_type": "code",
   "execution_count": 21,
   "metadata": {},
   "outputs": [],
   "source": [
    "CSV_COLUMNS = [\n",
    "    \"fare_amount\",\n",
    "    \"pickup_datetime\",\n",
    "    \"pickup_longitude\",\n",
    "    \"pickup_latitude\",\n",
    "    \"dropoff_longitude\",\n",
    "    \"dropoff_latitude\",\n",
    "    \"passenger_count\",\n",
    "    \"key\",\n",
    "]\n",
    "LABEL_COLUMN = \"fare_amount\"\n",
    "DEFAULTS = [[0.0], [\"na\"], [0.0], [0.0], [0.0], [0.0], [0.0], [\"na\"]]\n",
    "UNWANTED_COLS = [\"pickup_datetime\", \"key\"]\n",
    "\n",
    "\n",
    "def features_and_labels(row_data):\n",
    "    label = row_data.pop(LABEL_COLUMN)\n",
    "    features = row_data\n",
    "\n",
    "    for unwanted_col in UNWANTED_COLS:\n",
    "        features.pop(unwanted_col)\n",
    "\n",
    "    return features, label\n",
    "\n",
    "\n",
    "def create_dataset(pattern, batch_size=1, mode=\"eval\"):\n",
    "    dataset = tf.data.experimental.make_csv_dataset(\n",
    "        pattern, batch_size, CSV_COLUMNS, DEFAULTS\n",
    "    )\n",
    "\n",
    "    dataset = dataset.map(features_and_labels)\n",
    "\n",
    "    if mode == \"train\":\n",
    "        dataset = dataset.shuffle(buffer_size=1000).repeat()\n",
    "\n",
    "    # take advantage of multi-threading; 1=AUTOTUNE\n",
    "    dataset = dataset.prefetch(1)\n",
    "    return dataset"
   ]
  },
  {
   "cell_type": "markdown",
   "metadata": {},
   "source": [
    "## Build a simple keras DNN model"
   ]
  },
  {
   "cell_type": "markdown",
   "metadata": {},
   "source": [
    "We will use feature columns to connect our raw data to our keras DNN model. Feature columns make it easy to perform common types of feature engineering on your raw data. For example, you can one-hot encode categorical data, create feature crosses, embeddings and more. We'll cover these in more detail later in the course, but if you want to a sneak peak browse the official TensorFlow [feature columns guide](https://www.tensorflow.org/guide/feature_columns).\n",
    "\n",
    "In our case we won't do any feature engineering. However, we still need to create a list of feature columns to specify the numeric values which will be passed on to our model. To do this, we use `tf.feature_column.numeric_column()`\n",
    "\n",
    "We use a python dictionary comprehension to create the feature columns for our model, which is just an elegant alternative to a for loop."
   ]
  },
  {
   "cell_type": "code",
   "execution_count": 22,
   "metadata": {},
   "outputs": [],
   "source": [
    "INPUT_COLS = [\n",
    "    \"pickup_longitude\",\n",
    "    \"pickup_latitude\",\n",
    "    \"dropoff_longitude\",\n",
    "    \"dropoff_latitude\",\n",
    "    \"passenger_count\",\n",
    "]\n",
    "\n",
    "# Create input layer of feature columns\n",
    "\n",
    "# TODO 1\n",
    "feature_columns = {\n",
    "    colname: tf.feature_column.numeric_column(colname) for colname in INPUT_COLS\n",
    "}"
   ]
  },
  {
   "cell_type": "code",
   "execution_count": 5,
   "metadata": {},
   "outputs": [
    {
     "data": {
      "text/plain": [
       "5"
      ]
     },
     "execution_count": 5,
     "metadata": {},
     "output_type": "execute_result"
    }
   ],
   "source": [
    "len(feature_columns.values())"
   ]
  },
  {
   "cell_type": "markdown",
   "metadata": {},
   "source": [
    "Next, we create the DNN model. The Sequential model is a linear stack of layers and when building a model using the Sequential API, you configure each layer of the model in turn. Once all the layers have been added, you compile the model. "
   ]
  },
  {
   "cell_type": "code",
   "execution_count": 23,
   "metadata": {},
   "outputs": [],
   "source": [
    "# Build a keras DNN model using Sequential API\n",
    "\n",
    "# TODO 2a\n",
    "model = Sequential(\n",
    "    [\n",
    "        DenseFeatures(feature_columns=feature_columns.values()),\n",
    "        Dense(units=32, activation=\"relu\", name=\"h1\"),\n",
    "        Dense(units=8, activation=\"relu\", name=\"h2\"),\n",
    "        Dense(units=1, activation=\"linear\", name=\"output\"),\n",
    "    ]\n",
    ")"
   ]
  },
  {
   "cell_type": "markdown",
   "metadata": {},
   "source": [
    "Next, to prepare the model for training, you must configure the learning process. This is done using the compile method. The compile method takes three arguments:\n",
    "\n",
    "* An optimizer. This could be the string identifier of an existing optimizer (such as `rmsprop` or `adagrad`), or an instance of the [Optimizer class](https://www.tensorflow.org/versions/r2.0/api_docs/python/tf/keras/optimizers).\n",
    "* A loss function. This is the objective that the model will try to minimize. It can be the string identifier of an existing loss function from the [Losses class](https://www.tensorflow.org/versions/r2.0/api_docs/python/tf/keras/losses) (such as categorical_crossentropy or mse), or it can be a custom objective function.\n",
    "* A list of metrics. For any machine learning problem you will want a set of metrics to evaluate your model. A metric could be the string identifier of an existing metric or a custom metric function.\n",
    "\n",
    "We will add an additional custom metric called `rmse` to our list of metrics which will return the root mean square error. "
   ]
  },
  {
   "cell_type": "code",
   "execution_count": 24,
   "metadata": {},
   "outputs": [],
   "source": [
    "# TODO 2b\n",
    "# Create a custom evalution metric\n",
    "def rmse(y_true, y_pred):\n",
    "    return tf.sqrt(tf.reduce_mean(tf.square(y_pred - y_true)))\n",
    "\n",
    "\n",
    "# Compile the keras model\n",
    "model.compile(optimizer=\"adam\", loss=\"mse\", metrics=[rmse, \"mse\"])"
   ]
  },
  {
   "cell_type": "markdown",
   "metadata": {},
   "source": [
    "## Train the model"
   ]
  },
  {
   "cell_type": "markdown",
   "metadata": {},
   "source": [
    "To train your model, Keras provides three functions that can be used:\n",
    " 1. `.fit()` for training a model for a fixed number of epochs (iterations on a dataset).\n",
    " 2. `.fit_generator()` for training a model on data yielded batch-by-batch by a generator\n",
    " 3. `.train_on_batch()` runs a single gradient update on a single batch of data. \n",
    " \n",
    "The `.fit()` function works well for small datasets which can fit entirely in memory. However, for large datasets (or if you need to manipulate the training data on the fly via data augmentation, etc) you will need to use `.fit_generator()` instead. The `.train_on_batch()` method is for more fine-grained control over training and accepts only a single batch of data.\n",
    "\n",
    "The taxifare dataset we sampled is small enough to fit in memory, so can we could use `.fit` to train our model. Our `create_dataset` function above generates batches of training examples, so we could also use `.fit_generator`. In fact, when calling `.fit` the method inspects the data, and if it's a generator (as our dataset is) it will invoke automatically `.fit_generator` for training. \n",
    "\n",
    "We start by setting up some parameters for our training job and create the data generators for the training and validation data.\n",
    "\n",
    "We refer you the the blog post [ML Design Pattern #3: Virtual Epochs](https://medium.com/google-cloud/ml-design-pattern-3-virtual-epochs-f842296de730) for further details on why express the training in terms of `NUM_TRAIN_EXAMPLES` and `NUM_EVALS` and why, in this training code, the number of epochs is really equal to the number of evaluations we perform."
   ]
  },
  {
   "cell_type": "code",
   "execution_count": 25,
   "metadata": {},
   "outputs": [],
   "source": [
    "TRAIN_BATCH_SIZE = 1000\n",
    "NUM_TRAIN_EXAMPLES = 10000 * 5  # training dataset will repeat, wrap around\n",
    "NUM_EVALS = 50  # how many times to evaluate\n",
    "NUM_EVAL_EXAMPLES = 10000  # enough to get a reasonable sample\n",
    "\n",
    "trainds = create_dataset(\n",
    "    pattern=\"../toy_data/taxi-train*\", batch_size=TRAIN_BATCH_SIZE, mode=\"train\"\n",
    ")\n",
    "\n",
    "# take means taking first n data points\n",
    "evalds = create_dataset(\n",
    "    pattern=\"../toy_data/taxi-valid*\", batch_size=1000, mode=\"eval\"\n",
    ").take(NUM_EVAL_EXAMPLES // 1000)"
   ]
  },
  {
   "cell_type": "markdown",
   "metadata": {},
   "source": [
    "There are various arguments you can set when calling the [.fit method](https://www.tensorflow.org/versions/r2.0/api_docs/python/tf/keras/Model#fit). Here `x` specifies the input data which in our case is a `tf.data` dataset returning a tuple of (inputs, targets). The `steps_per_epoch` parameter is used to mark the end of training for a single epoch. Here we are training for NUM_EVALS epochs. Lastly, for the `callback` argument we specify a Tensorboard callback so we can inspect Tensorboard after training. "
   ]
  },
  {
   "cell_type": "code",
   "execution_count": 9,
   "metadata": {},
   "outputs": [
    {
     "name": "stdout",
     "output_type": "stream",
     "text": [
      "/usr/bin/zsh: /home/ankit/miniconda3/envs/ML/lib/libncursesw.so.6: no version information available (required by /usr/bin/zsh)\n",
      "--xla_gpu_cuda_data_dir=/home/ankit/miniconda3/envs/ML/lib/\n"
     ]
    }
   ],
   "source": [
    "! echo $XLAR_FLAGS"
   ]
  },
  {
   "cell_type": "code",
   "execution_count": 26,
   "metadata": {},
   "outputs": [
    {
     "name": "stdout",
     "output_type": "stream",
     "text": [
      "CPU times: user 1e+03 ns, sys: 4 µs, total: 5 µs\n",
      "Wall time: 10 µs\n",
      "Epoch 1/50\n",
      "WARNING:tensorflow:Layers in a Sequential model should only have a single input tensor. Received: inputs=OrderedDict([('pickup_longitude', <tf.Tensor 'IteratorGetNext:4' shape=(1000,) dtype=float32>), ('pickup_latitude', <tf.Tensor 'IteratorGetNext:3' shape=(1000,) dtype=float32>), ('dropoff_longitude', <tf.Tensor 'IteratorGetNext:1' shape=(1000,) dtype=float32>), ('dropoff_latitude', <tf.Tensor 'IteratorGetNext:0' shape=(1000,) dtype=float32>), ('passenger_count', <tf.Tensor 'IteratorGetNext:2' shape=(1000,) dtype=float32>)]). Consider rewriting this model with the Functional API.\n"
     ]
    },
    {
     "name": "stdout",
     "output_type": "stream",
     "text": [
      "WARNING:tensorflow:Layers in a Sequential model should only have a single input tensor. Received: inputs=OrderedDict([('pickup_longitude', <tf.Tensor 'IteratorGetNext:4' shape=(1000,) dtype=float32>), ('pickup_latitude', <tf.Tensor 'IteratorGetNext:3' shape=(1000,) dtype=float32>), ('dropoff_longitude', <tf.Tensor 'IteratorGetNext:1' shape=(1000,) dtype=float32>), ('dropoff_latitude', <tf.Tensor 'IteratorGetNext:0' shape=(1000,) dtype=float32>), ('passenger_count', <tf.Tensor 'IteratorGetNext:2' shape=(1000,) dtype=float32>)]). Consider rewriting this model with the Functional API.\n"
     ]
    },
    {
     "name": "stderr",
     "output_type": "stream",
     "text": [
      "2023-12-14 14:24:37.135758: I tensorflow/core/kernels/data/shuffle_dataset_op.cc:390] Filling up shuffle buffer (this may take a while): 981 of 1000\n",
      "2023-12-14 14:24:37.329585: I tensorflow/core/kernels/data/shuffle_dataset_op.cc:415] Shuffle buffer filled.\n"
     ]
    },
    {
     "name": "stdout",
     "output_type": "stream",
     "text": [
      "1/1 [==============================] - ETA: 0s - loss: 874.8083 - rmse: 29.5772 - mse: 874.8083WARNING:tensorflow:Layers in a Sequential model should only have a single input tensor. Received: inputs=OrderedDict([('pickup_longitude', <tf.Tensor 'IteratorGetNext:4' shape=(1000,) dtype=float32>), ('pickup_latitude', <tf.Tensor 'IteratorGetNext:3' shape=(1000,) dtype=float32>), ('dropoff_longitude', <tf.Tensor 'IteratorGetNext:1' shape=(1000,) dtype=float32>), ('dropoff_latitude', <tf.Tensor 'IteratorGetNext:0' shape=(1000,) dtype=float32>), ('passenger_count', <tf.Tensor 'IteratorGetNext:2' shape=(1000,) dtype=float32>)]). Consider rewriting this model with the Functional API.\n",
      "1/1 [==============================] - 11s 11s/step - loss: 874.8083 - rmse: 29.5772 - mse: 874.8083 - val_loss: 879.2356 - val_rmse: 29.6505 - val_mse: 879.2356\n",
      "Epoch 2/50\n",
      "1/1 [==============================] - 0s 247ms/step - loss: 833.9436 - rmse: 28.8781 - mse: 833.9436 - val_loss: 836.3457 - val_rmse: 28.9180 - val_mse: 836.3457\n",
      "Epoch 3/50\n",
      "1/1 [==============================] - 0s 267ms/step - loss: 815.0413 - rmse: 28.5489 - mse: 815.0413 - val_loss: 796.5994 - val_rmse: 28.2238 - val_mse: 796.5994\n",
      "Epoch 4/50\n",
      "1/1 [==============================] - 0s 246ms/step - loss: 790.1604 - rmse: 28.1098 - mse: 790.1604 - val_loss: 756.9579 - val_rmse: 27.5122 - val_mse: 756.9579\n",
      "Epoch 5/50\n",
      "1/1 [==============================] - 0s 270ms/step - loss: 705.7469 - rmse: 26.5659 - mse: 705.7469 - val_loss: 720.7789 - val_rmse: 26.8468 - val_mse: 720.7789\n",
      "Epoch 6/50\n",
      "1/1 [==============================] - 0s 275ms/step - loss: 664.2851 - rmse: 25.7737 - mse: 664.2851 - val_loss: 687.5355 - val_rmse: 26.2197 - val_mse: 687.5355\n",
      "Epoch 7/50\n",
      "1/1 [==============================] - 0s 275ms/step - loss: 662.0939 - rmse: 25.7312 - mse: 662.0939 - val_loss: 650.1719 - val_rmse: 25.4983 - val_mse: 650.1719\n",
      "Epoch 8/50\n",
      "1/1 [==============================] - 0s 272ms/step - loss: 631.3447 - rmse: 25.1266 - mse: 631.3447 - val_loss: 616.2447 - val_rmse: 24.8222 - val_mse: 616.2447\n",
      "Epoch 9/50\n",
      "1/1 [==============================] - 0s 266ms/step - loss: 564.8095 - rmse: 23.7657 - mse: 564.8095 - val_loss: 585.7407 - val_rmse: 24.2015 - val_mse: 585.7407\n",
      "Epoch 10/50\n",
      "1/1 [==============================] - 0s 283ms/step - loss: 526.0750 - rmse: 22.9363 - mse: 526.0750 - val_loss: 556.2915 - val_rmse: 23.5840 - val_mse: 556.2915\n",
      "Epoch 11/50\n",
      "1/1 [==============================] - 0s 279ms/step - loss: 499.5154 - rmse: 22.3498 - mse: 499.5154 - val_loss: 528.1780 - val_rmse: 22.9790 - val_mse: 528.1780\n",
      "Epoch 12/50\n",
      "1/1 [==============================] - 0s 260ms/step - loss: 483.5841 - rmse: 21.9905 - mse: 483.5841 - val_loss: 499.2165 - val_rmse: 22.3415 - val_mse: 499.2165\n",
      "Epoch 13/50\n",
      "1/1 [==============================] - 0s 298ms/step - loss: 461.3836 - rmse: 21.4798 - mse: 461.3836 - val_loss: 471.2835 - val_rmse: 21.7058 - val_mse: 471.2835\n",
      "Epoch 14/50\n",
      "1/1 [==============================] - 0s 254ms/step - loss: 444.6299 - rmse: 21.0862 - mse: 444.6299 - val_loss: 448.8962 - val_rmse: 21.1813 - val_mse: 448.8962\n",
      "Epoch 15/50\n",
      "1/1 [==============================] - 0s 248ms/step - loss: 434.0445 - rmse: 20.8337 - mse: 434.0445 - val_loss: 424.3131 - val_rmse: 20.5971 - val_mse: 424.3131\n",
      "Epoch 16/50\n",
      "1/1 [==============================] - 0s 226ms/step - loss: 361.9008 - rmse: 19.0237 - mse: 361.9008 - val_loss: 402.6013 - val_rmse: 20.0622 - val_mse: 402.6013\n",
      "Epoch 17/50\n",
      "1/1 [==============================] - 0s 284ms/step - loss: 361.0664 - rmse: 19.0017 - mse: 361.0664 - val_loss: 379.6654 - val_rmse: 19.4833 - val_mse: 379.6654\n",
      "Epoch 18/50\n",
      "1/1 [==============================] - 0s 296ms/step - loss: 323.6767 - rmse: 17.9910 - mse: 323.6767 - val_loss: 359.3053 - val_rmse: 18.9532 - val_mse: 359.3053\n",
      "Epoch 19/50\n",
      "1/1 [==============================] - 0s 226ms/step - loss: 311.4778 - rmse: 17.6487 - mse: 311.4778 - val_loss: 340.8578 - val_rmse: 18.4600 - val_mse: 340.8578\n",
      "Epoch 20/50\n",
      "1/1 [==============================] - 0s 234ms/step - loss: 314.0941 - rmse: 17.7227 - mse: 314.0941 - val_loss: 322.9485 - val_rmse: 17.9677 - val_mse: 322.9485\n",
      "Epoch 21/50\n",
      "1/1 [==============================] - 0s 271ms/step - loss: 297.6155 - rmse: 17.2515 - mse: 297.6155 - val_loss: 304.0177 - val_rmse: 17.4358 - val_mse: 304.0177\n",
      "Epoch 22/50\n",
      "1/1 [==============================] - 0s 248ms/step - loss: 249.8832 - rmse: 15.8077 - mse: 249.8832 - val_loss: 286.4473 - val_rmse: 16.9220 - val_mse: 286.4473\n",
      "Epoch 23/50\n",
      "1/1 [==============================] - 0s 234ms/step - loss: 263.7421 - rmse: 16.2401 - mse: 263.7421 - val_loss: 273.1405 - val_rmse: 16.5221 - val_mse: 273.1405\n",
      "Epoch 24/50\n",
      "1/1 [==============================] - 0s 285ms/step - loss: 256.1627 - rmse: 16.0051 - mse: 256.1627 - val_loss: 257.6502 - val_rmse: 16.0485 - val_mse: 257.6502\n",
      "Epoch 25/50\n",
      "1/1 [==============================] - 0s 310ms/step - loss: 241.9133 - rmse: 15.5536 - mse: 241.9133 - val_loss: 244.4871 - val_rmse: 15.6317 - val_mse: 244.4871\n",
      "Epoch 26/50\n",
      "1/1 [==============================] - 0s 281ms/step - loss: 222.7498 - rmse: 14.9248 - mse: 222.7498 - val_loss: 232.7374 - val_rmse: 15.2544 - val_mse: 232.7374\n",
      "Epoch 27/50\n",
      "1/1 [==============================] - 0s 287ms/step - loss: 195.4568 - rmse: 13.9806 - mse: 195.4568 - val_loss: 218.9010 - val_rmse: 14.7887 - val_mse: 218.9010\n",
      "Epoch 28/50\n",
      "1/1 [==============================] - 0s 338ms/step - loss: 180.6264 - rmse: 13.4397 - mse: 180.6264 - val_loss: 207.0398 - val_rmse: 14.3871 - val_mse: 207.0398\n",
      "Epoch 29/50\n",
      "1/1 [==============================] - 0s 284ms/step - loss: 205.1691 - rmse: 14.3237 - mse: 205.1691 - val_loss: 199.1391 - val_rmse: 14.1062 - val_mse: 199.1391\n",
      "Epoch 30/50\n",
      "1/1 [==============================] - 0s 250ms/step - loss: 198.4225 - rmse: 14.0863 - mse: 198.4225 - val_loss: 187.9870 - val_rmse: 13.7051 - val_mse: 187.9870\n",
      "Epoch 31/50\n",
      "1/1 [==============================] - 0s 262ms/step - loss: 178.0976 - rmse: 13.3453 - mse: 178.0976 - val_loss: 181.2434 - val_rmse: 13.4553 - val_mse: 181.2434\n",
      "Epoch 32/50\n",
      "1/1 [==============================] - 0s 285ms/step - loss: 158.4006 - rmse: 12.5857 - mse: 158.4006 - val_loss: 176.4192 - val_rmse: 13.2761 - val_mse: 176.4192\n",
      "Epoch 33/50\n",
      "1/1 [==============================] - 0s 229ms/step - loss: 160.4392 - rmse: 12.6665 - mse: 160.4392 - val_loss: 172.0181 - val_rmse: 13.1112 - val_mse: 172.0181\n",
      "Epoch 34/50\n",
      "1/1 [==============================] - 0s 212ms/step - loss: 160.0046 - rmse: 12.6493 - mse: 160.0046 - val_loss: 167.5524 - val_rmse: 12.9396 - val_mse: 167.5524\n",
      "Epoch 35/50\n",
      "1/1 [==============================] - 0s 264ms/step - loss: 132.1073 - rmse: 11.4938 - mse: 132.1073 - val_loss: 161.8321 - val_rmse: 12.7175 - val_mse: 161.8321\n",
      "Epoch 36/50\n",
      "1/1 [==============================] - 0s 364ms/step - loss: 149.8378 - rmse: 12.2408 - mse: 149.8378 - val_loss: 158.5790 - val_rmse: 12.5909 - val_mse: 158.5790\n",
      "Epoch 37/50\n",
      "1/1 [==============================] - 0s 276ms/step - loss: 115.1693 - rmse: 10.7317 - mse: 115.1693 - val_loss: 152.8731 - val_rmse: 12.3639 - val_mse: 152.8731\n",
      "Epoch 38/50\n",
      "1/1 [==============================] - 0s 292ms/step - loss: 121.2881 - rmse: 11.0131 - mse: 121.2881 - val_loss: 147.2623 - val_rmse: 12.1326 - val_mse: 147.2623\n",
      "Epoch 39/50\n",
      "1/1 [==============================] - 0s 247ms/step - loss: 133.6819 - rmse: 11.5621 - mse: 133.6819 - val_loss: 143.8737 - val_rmse: 11.9841 - val_mse: 143.8737\n",
      "Epoch 40/50\n",
      "1/1 [==============================] - 0s 261ms/step - loss: 122.1771 - rmse: 11.0534 - mse: 122.1771 - val_loss: 138.6542 - val_rmse: 11.7669 - val_mse: 138.6542\n",
      "Epoch 41/50\n",
      "1/1 [==============================] - 0s 226ms/step - loss: 122.9344 - rmse: 11.0876 - mse: 122.9344 - val_loss: 135.6771 - val_rmse: 11.6430 - val_mse: 135.6771\n",
      "Epoch 42/50\n",
      "1/1 [==============================] - 0s 235ms/step - loss: 98.8630 - rmse: 9.9430 - mse: 98.8630 - val_loss: 132.5940 - val_rmse: 11.5108 - val_mse: 132.5940\n",
      "Epoch 43/50\n",
      "1/1 [==============================] - 0s 264ms/step - loss: 121.9282 - rmse: 11.0421 - mse: 121.9282 - val_loss: 128.7003 - val_rmse: 11.3377 - val_mse: 128.7003\n",
      "Epoch 44/50\n",
      "1/1 [==============================] - 0s 241ms/step - loss: 122.7260 - rmse: 11.0782 - mse: 122.7260 - val_loss: 126.3914 - val_rmse: 11.2394 - val_mse: 126.3914\n",
      "Epoch 45/50\n",
      "1/1 [==============================] - 0s 241ms/step - loss: 109.2100 - rmse: 10.4504 - mse: 109.2100 - val_loss: 122.9126 - val_rmse: 11.0825 - val_mse: 122.9126\n",
      "Epoch 46/50\n",
      "1/1 [==============================] - 0s 288ms/step - loss: 90.9380 - rmse: 9.5361 - mse: 90.9380 - val_loss: 120.6041 - val_rmse: 10.9784 - val_mse: 120.6041\n",
      "Epoch 47/50\n",
      "1/1 [==============================] - 0s 279ms/step - loss: 117.9255 - rmse: 10.8594 - mse: 117.9255 - val_loss: 117.2199 - val_rmse: 10.8229 - val_mse: 117.2199\n",
      "Epoch 48/50\n",
      "1/1 [==============================] - 0s 275ms/step - loss: 117.0769 - rmse: 10.8202 - mse: 117.0769 - val_loss: 114.7592 - val_rmse: 10.7054 - val_mse: 114.7592\n",
      "Epoch 49/50\n",
      "1/1 [==============================] - 0s 347ms/step - loss: 89.4429 - rmse: 9.4574 - mse: 89.4429 - val_loss: 111.8011 - val_rmse: 10.5711 - val_mse: 111.8011\n",
      "Epoch 50/50\n",
      "1/1 [==============================] - 0s 254ms/step - loss: 117.1206 - rmse: 10.8222 - mse: 117.1206 - val_loss: 110.5285 - val_rmse: 10.5089 - val_mse: 110.5285\n"
     ]
    }
   ],
   "source": [
    "# TODO 3\n",
    "%time\n",
    "steps_per_epoch = NUM_TRAIN_EXAMPLES // (TRAIN_BATCH_SIZE * NUM_EVALS)\n",
    "\n",
    "LOGDIR = \"./taxi_trained\"\n",
    "history = model.fit(\n",
    "    x=trainds,\n",
    "    steps_per_epoch=steps_per_epoch,\n",
    "    epochs=NUM_EVALS,\n",
    "    validation_data=evalds,\n",
    "    callbacks=[TensorBoard(LOGDIR)],\n",
    ")"
   ]
  },
  {
   "cell_type": "markdown",
   "metadata": {},
   "source": [
    "### High-level model evaluation"
   ]
  },
  {
   "cell_type": "markdown",
   "metadata": {},
   "source": [
    "Once we've run data through the model, we can call `.summary()` on the model to get a high-level summary of our network. We can also plot the training and evaluation curves for the metrics we computed above. "
   ]
  },
  {
   "cell_type": "code",
   "execution_count": 9,
   "metadata": {},
   "outputs": [
    {
     "name": "stdout",
     "output_type": "stream",
     "text": [
      "Model: \"sequential\"\n",
      "_________________________________________________________________\n",
      " Layer (type)                Output Shape              Param #   \n",
      "=================================================================\n",
      " dense_features (DenseFeatur  multiple                 0         \n",
      " es)                                                             \n",
      "                                                                 \n",
      " h1 (Dense)                  multiple                  192       \n",
      "                                                                 \n",
      " h2 (Dense)                  multiple                  264       \n",
      "                                                                 \n",
      " output (Dense)              multiple                  9         \n",
      "                                                                 \n",
      "=================================================================\n",
      "Total params: 465\n",
      "Trainable params: 465\n",
      "Non-trainable params: 0\n",
      "_________________________________________________________________\n"
     ]
    }
   ],
   "source": [
    "model.summary()"
   ]
  },
  {
   "cell_type": "markdown",
   "metadata": {},
   "source": [
    "Running `.fit` (or `.fit_generator`) returns a History object which collects all the events recorded during training. Similar to Tensorboard, we can plot the training and validation curves for the model loss and rmse by accessing these elements of the History object."
   ]
  },
  {
   "cell_type": "code",
   "execution_count": 27,
   "metadata": {},
   "outputs": [
    {
     "data": {
      "text/plain": [
       "<Axes: >"
      ]
     },
     "execution_count": 27,
     "metadata": {},
     "output_type": "execute_result"
    },
    {
     "data": {
      "image/png": "[encoded data removed]",
      "text/plain": [
       "<Figure size 640x480 with 1 Axes>"
      ]
     },
     "metadata": {},
     "output_type": "display_data"
    }
   ],
   "source": [
    "RMSE_COLS = [\"rmse\", \"val_rmse\"]\n",
    "\n",
    "pd.DataFrame(history.history)[RMSE_COLS].plot()"
   ]
  },
  {
   "cell_type": "code",
   "execution_count": 28,
   "metadata": {},
   "outputs": [
    {
     "data": {
      "text/plain": [
       "<Axes: >"
      ]
     },
     "execution_count": 28,
     "metadata": {},
     "output_type": "execute_result"
    },
    {
     "data": {
      "image/png": "[encoded data removed]",
      "text/plain": [
       "<Figure size 640x480 with 1 Axes>"
      ]
     },
     "metadata": {},
     "output_type": "display_data"
    }
   ],
   "source": [
    "LOSS_COLS = [\"loss\", \"val_loss\"]\n",
    "\n",
    "pd.DataFrame(history.history)[LOSS_COLS].plot()"
   ]
  },
  {
   "cell_type": "markdown",
   "metadata": {},
   "source": [
    "# Making predictions with our model"
   ]
  },
  {
   "cell_type": "markdown",
   "metadata": {},
   "source": [
    "To make predictions with our trained model, we can call the [predict method](https://www.tensorflow.org/api_docs/python/tf/keras/Model#predict), passing to it a dictionary of values. The `steps` parameter determines the total number of steps before declaring the prediction round finished. Here since we have just one example, we set `steps=1` (setting `steps=None` would also work). Note, however, that if x is a `tf.data` dataset or a dataset iterator, and steps is set to None, predict will run until the input dataset is exhausted."
   ]
  },
  {
   "cell_type": "code",
   "execution_count": null,
   "metadata": {},
   "outputs": [
    {
     "name": "stdout",
     "output_type": "stream",
     "text": [
      "WARNING:tensorflow:Layers in a Sequential model should only have a single input tensor, but we receive a <class 'dict'> input: {'pickup_longitude': <tf.Tensor 'ExpandDims_4:0' shape=(1, 1) dtype=float32>, 'pickup_latitude': <tf.Tensor 'ExpandDims_3:0' shape=(1, 1) dtype=float32>, 'dropoff_longitude': <tf.Tensor 'ExpandDims_1:0' shape=(1, 1) dtype=float32>, 'dropoff_latitude': <tf.Tensor 'ExpandDims:0' shape=(1, 1) dtype=float32>, 'passenger_count': <tf.Tensor 'ExpandDims_2:0' shape=(1, 1) dtype=float32>}\n",
      "Consider rewriting this model with the Functional API.\n",
      "WARNING:tensorflow:Layers in a Sequential model should only have a single input tensor, but we receive a <class 'dict'> input: {'pickup_longitude': <tf.Tensor 'ExpandDims_4:0' shape=(1, 1) dtype=float32>, 'pickup_latitude': <tf.Tensor 'ExpandDims_3:0' shape=(1, 1) dtype=float32>, 'dropoff_longitude': <tf.Tensor 'ExpandDims_1:0' shape=(1, 1) dtype=float32>, 'dropoff_latitude': <tf.Tensor 'ExpandDims:0' shape=(1, 1) dtype=float32>, 'passenger_count': <tf.Tensor 'ExpandDims_2:0' shape=(1, 1) dtype=float32>}\n",
      "Consider rewriting this model with the Functional API.\n"
     ]
    },
    {
     "data": {
      "text/plain": [
       "array([[12.043668]], dtype=float32)"
      ]
     },
     "execution_count": 41,
     "metadata": {},
     "output_type": "execute_result"
    }
   ],
   "source": [
    "model.predict(\n",
    "    x={\n",
    "        \"pickup_longitude\": tf.convert_to_tensor([-73.982683]),\n",
    "        \"pickup_latitude\": tf.convert_to_tensor([40.742104]),\n",
    "        \"dropoff_longitude\": tf.convert_to_tensor([-73.983766]),\n",
    "        \"dropoff_latitude\": tf.convert_to_tensor([40.755174]),\n",
    "        \"passenger_count\": tf.convert_to_tensor([3.0]),\n",
    "    },\n",
    "    steps=1,\n",
    ")"
   ]
  },
  {
   "cell_type": "markdown",
   "metadata": {},
   "source": [
    "# Export and deploy our model"
   ]
  },
  {
   "cell_type": "markdown",
   "metadata": {},
   "source": [
    "Of course, making individual predictions is not realistic, because we can't expect client code to have a model object in memory. For others to use our trained model, we'll have to export our model to a file, and expect client code to instantiate the model from that exported file. \n",
    "\n",
    "We'll export the model to a TensorFlow SavedModel format. Once we have a model in this format, we have lots of ways to \"serve\" the model, from a web application, from JavaScript, from mobile applications, etc."
   ]
  },
  {
   "cell_type": "code",
   "execution_count": null,
   "metadata": {},
   "outputs": [
    {
     "name": "stdout",
     "output_type": "stream",
     "text": [
      "WARNING:tensorflow:Layers in a Sequential model should only have a single input tensor, but we receive a <class 'collections.OrderedDict'> input: OrderedDict([('pickup_longitude', <tf.Tensor 'pickup_longitude:0' shape=(None, 1) dtype=float32>), ('pickup_latitude', <tf.Tensor 'pickup_latitude:0' shape=(None, 1) dtype=float32>), ('dropoff_longitude', <tf.Tensor 'dropoff_longitude:0' shape=(None, 1) dtype=float32>), ('dropoff_latitude', <tf.Tensor 'dropoff_latitude:0' shape=(None, 1) dtype=float32>), ('passenger_count', <tf.Tensor 'passenger_count:0' shape=(None, 1) dtype=float32>)])\n",
      "Consider rewriting this model with the Functional API.\n",
      "WARNING:tensorflow:Layers in a Sequential model should only have a single input tensor, but we receive a <class 'collections.OrderedDict'> input: OrderedDict([('pickup_longitude', <tf.Tensor 'pickup_longitude:0' shape=(None, 1) dtype=float32>), ('pickup_latitude', <tf.Tensor 'pickup_latitude:0' shape=(None, 1) dtype=float32>), ('dropoff_longitude', <tf.Tensor 'dropoff_longitude:0' shape=(None, 1) dtype=float32>), ('dropoff_latitude', <tf.Tensor 'dropoff_latitude:0' shape=(None, 1) dtype=float32>), ('passenger_count', <tf.Tensor 'passenger_count:0' shape=(None, 1) dtype=float32>)])\n",
      "Consider rewriting this model with the Functional API.\n",
      "WARNING:tensorflow:Layers in a Sequential model should only have a single input tensor, but we receive a <class 'collections.OrderedDict'> input: OrderedDict([('pickup_longitude', <tf.Tensor 'inputs_4:0' shape=(None, 1) dtype=float32>), ('pickup_latitude', <tf.Tensor 'inputs_3:0' shape=(None, 1) dtype=float32>), ('dropoff_longitude', <tf.Tensor 'inputs_1:0' shape=(None, 1) dtype=float32>), ('dropoff_latitude', <tf.Tensor 'inputs:0' shape=(None, 1) dtype=float32>), ('passenger_count', <tf.Tensor 'inputs_2:0' shape=(None, 1) dtype=float32>)])\n",
      "Consider rewriting this model with the Functional API.\n",
      "WARNING:tensorflow:Layers in a Sequential model should only have a single input tensor, but we receive a <class 'collections.OrderedDict'> input: OrderedDict([('pickup_longitude', <tf.Tensor 'inputs_4:0' shape=(None, 1) dtype=float32>), ('pickup_latitude', <tf.Tensor 'inputs_3:0' shape=(None, 1) dtype=float32>), ('dropoff_longitude', <tf.Tensor 'inputs_1:0' shape=(None, 1) dtype=float32>), ('dropoff_latitude', <tf.Tensor 'inputs:0' shape=(None, 1) dtype=float32>), ('passenger_count', <tf.Tensor 'inputs_2:0' shape=(None, 1) dtype=float32>)])\n",
      "Consider rewriting this model with the Functional API.\n",
      "WARNING:tensorflow:Layers in a Sequential model should only have a single input tensor, but we receive a <class 'collections.OrderedDict'> input: OrderedDict([('pickup_longitude', <tf.Tensor 'inputs_4:0' shape=(None, 1) dtype=float32>), ('pickup_latitude', <tf.Tensor 'inputs_3:0' shape=(None, 1) dtype=float32>), ('dropoff_longitude', <tf.Tensor 'inputs_1:0' shape=(None, 1) dtype=float32>), ('dropoff_latitude', <tf.Tensor 'inputs:0' shape=(None, 1) dtype=float32>), ('passenger_count', <tf.Tensor 'inputs_2:0' shape=(None, 1) dtype=float32>)])\n",
      "Consider rewriting this model with the Functional API.\n",
      "WARNING:tensorflow:Layers in a Sequential model should only have a single input tensor, but we receive a <class 'collections.OrderedDict'> input: OrderedDict([('pickup_longitude', <tf.Tensor 'inputs_4:0' shape=(None, 1) dtype=float32>), ('pickup_latitude', <tf.Tensor 'inputs_3:0' shape=(None, 1) dtype=float32>), ('dropoff_longitude', <tf.Tensor 'inputs_1:0' shape=(None, 1) dtype=float32>), ('dropoff_latitude', <tf.Tensor 'inputs:0' shape=(None, 1) dtype=float32>), ('passenger_count', <tf.Tensor 'inputs_2:0' shape=(None, 1) dtype=float32>)])\n",
      "Consider rewriting this model with the Functional API.\n",
      "WARNING:tensorflow:Layers in a Sequential model should only have a single input tensor, but we receive a <class 'collections.OrderedDict'> input: OrderedDict([('pickup_longitude', <tf.Tensor 'pickup_longitude:0' shape=(None, 1) dtype=float32>), ('pickup_latitude', <tf.Tensor 'pickup_latitude:0' shape=(None, 1) dtype=float32>), ('dropoff_longitude', <tf.Tensor 'dropoff_longitude:0' shape=(None, 1) dtype=float32>), ('dropoff_latitude', <tf.Tensor 'dropoff_latitude:0' shape=(None, 1) dtype=float32>), ('passenger_count', <tf.Tensor 'passenger_count:0' shape=(None, 1) dtype=float32>)])\n",
      "Consider rewriting this model with the Functional API.\n",
      "WARNING:tensorflow:Layers in a Sequential model should only have a single input tensor, but we receive a <class 'collections.OrderedDict'> input: OrderedDict([('pickup_longitude', <tf.Tensor 'pickup_longitude:0' shape=(None, 1) dtype=float32>), ('pickup_latitude', <tf.Tensor 'pickup_latitude:0' shape=(None, 1) dtype=float32>), ('dropoff_longitude', <tf.Tensor 'dropoff_longitude:0' shape=(None, 1) dtype=float32>), ('dropoff_latitude', <tf.Tensor 'dropoff_latitude:0' shape=(None, 1) dtype=float32>), ('passenger_count', <tf.Tensor 'passenger_count:0' shape=(None, 1) dtype=float32>)])\n",
      "Consider rewriting this model with the Functional API.\n",
      "WARNING:tensorflow:Layers in a Sequential model should only have a single input tensor, but we receive a <class 'collections.OrderedDict'> input: OrderedDict([('pickup_longitude', <tf.Tensor 'pickup_longitude:0' shape=(None, 1) dtype=float32>), ('pickup_latitude', <tf.Tensor 'pickup_latitude:0' shape=(None, 1) dtype=float32>), ('dropoff_longitude', <tf.Tensor 'dropoff_longitude:0' shape=(None, 1) dtype=float32>), ('dropoff_latitude', <tf.Tensor 'dropoff_latitude:0' shape=(None, 1) dtype=float32>), ('passenger_count', <tf.Tensor 'passenger_count:0' shape=(None, 1) dtype=float32>)])\n",
      "Consider rewriting this model with the Functional API.\n",
      "WARNING:tensorflow:Layers in a Sequential model should only have a single input tensor, but we receive a <class 'collections.OrderedDict'> input: OrderedDict([('pickup_longitude', <tf.Tensor 'pickup_longitude:0' shape=(None, 1) dtype=float32>), ('pickup_latitude', <tf.Tensor 'pickup_latitude:0' shape=(None, 1) dtype=float32>), ('dropoff_longitude', <tf.Tensor 'dropoff_longitude:0' shape=(None, 1) dtype=float32>), ('dropoff_latitude', <tf.Tensor 'dropoff_latitude:0' shape=(None, 1) dtype=float32>), ('passenger_count', <tf.Tensor 'passenger_count:0' shape=(None, 1) dtype=float32>)])\n",
      "Consider rewriting this model with the Functional API.\n",
      "WARNING:tensorflow:Layers in a Sequential model should only have a single input tensor, but we receive a <class 'collections.OrderedDict'> input: OrderedDict([('pickup_longitude', <tf.Tensor 'inputs/pickup_longitude:0' shape=(None, 1) dtype=float32>), ('pickup_latitude', <tf.Tensor 'inputs/pickup_latitude:0' shape=(None, 1) dtype=float32>), ('dropoff_longitude', <tf.Tensor 'inputs/dropoff_longitude:0' shape=(None, 1) dtype=float32>), ('dropoff_latitude', <tf.Tensor 'inputs/dropoff_latitude:0' shape=(None, 1) dtype=float32>), ('passenger_count', <tf.Tensor 'inputs/passenger_count:0' shape=(None, 1) dtype=float32>)])\n",
      "Consider rewriting this model with the Functional API.\n",
      "WARNING:tensorflow:Layers in a Sequential model should only have a single input tensor, but we receive a <class 'collections.OrderedDict'> input: OrderedDict([('pickup_longitude', <tf.Tensor 'inputs/pickup_longitude:0' shape=(None, 1) dtype=float32>), ('pickup_latitude', <tf.Tensor 'inputs/pickup_latitude:0' shape=(None, 1) dtype=float32>), ('dropoff_longitude', <tf.Tensor 'inputs/dropoff_longitude:0' shape=(None, 1) dtype=float32>), ('dropoff_latitude', <tf.Tensor 'inputs/dropoff_latitude:0' shape=(None, 1) dtype=float32>), ('passenger_count', <tf.Tensor 'inputs/passenger_count:0' shape=(None, 1) dtype=float32>)])\n",
      "Consider rewriting this model with the Functional API.\n",
      "WARNING:tensorflow:Layers in a Sequential model should only have a single input tensor, but we receive a <class 'collections.OrderedDict'> input: OrderedDict([('pickup_longitude', <tf.Tensor 'inputs/pickup_longitude:0' shape=(None, 1) dtype=float32>), ('pickup_latitude', <tf.Tensor 'inputs/pickup_latitude:0' shape=(None, 1) dtype=float32>), ('dropoff_longitude', <tf.Tensor 'inputs/dropoff_longitude:0' shape=(None, 1) dtype=float32>), ('dropoff_latitude', <tf.Tensor 'inputs/dropoff_latitude:0' shape=(None, 1) dtype=float32>), ('passenger_count', <tf.Tensor 'inputs/passenger_count:0' shape=(None, 1) dtype=float32>)])\n",
      "Consider rewriting this model with the Functional API.\n",
      "WARNING:tensorflow:Layers in a Sequential model should only have a single input tensor, but we receive a <class 'collections.OrderedDict'> input: OrderedDict([('pickup_longitude', <tf.Tensor 'inputs/pickup_longitude:0' shape=(None, 1) dtype=float32>), ('pickup_latitude', <tf.Tensor 'inputs/pickup_latitude:0' shape=(None, 1) dtype=float32>), ('dropoff_longitude', <tf.Tensor 'inputs/dropoff_longitude:0' shape=(None, 1) dtype=float32>), ('dropoff_latitude', <tf.Tensor 'inputs/dropoff_latitude:0' shape=(None, 1) dtype=float32>), ('passenger_count', <tf.Tensor 'inputs/passenger_count:0' shape=(None, 1) dtype=float32>)])\n",
      "Consider rewriting this model with the Functional API.\n",
      "WARNING:tensorflow:Layers in a Sequential model should only have a single input tensor, but we receive a <class 'collections.OrderedDict'> input: OrderedDict([('pickup_longitude', <tf.Tensor 'pickup_longitude:0' shape=(None, 1) dtype=float32>), ('pickup_latitude', <tf.Tensor 'pickup_latitude:0' shape=(None, 1) dtype=float32>), ('dropoff_longitude', <tf.Tensor 'dropoff_longitude:0' shape=(None, 1) dtype=float32>), ('dropoff_latitude', <tf.Tensor 'dropoff_latitude:0' shape=(None, 1) dtype=float32>), ('passenger_count', <tf.Tensor 'passenger_count:0' shape=(None, 1) dtype=float32>)])\n",
      "Consider rewriting this model with the Functional API.\n",
      "WARNING:tensorflow:Layers in a Sequential model should only have a single input tensor, but we receive a <class 'collections.OrderedDict'> input: OrderedDict([('pickup_longitude', <tf.Tensor 'pickup_longitude:0' shape=(None, 1) dtype=float32>), ('pickup_latitude', <tf.Tensor 'pickup_latitude:0' shape=(None, 1) dtype=float32>), ('dropoff_longitude', <tf.Tensor 'dropoff_longitude:0' shape=(None, 1) dtype=float32>), ('dropoff_latitude', <tf.Tensor 'dropoff_latitude:0' shape=(None, 1) dtype=float32>), ('passenger_count', <tf.Tensor 'passenger_count:0' shape=(None, 1) dtype=float32>)])\n",
      "Consider rewriting this model with the Functional API.\n",
      "WARNING:tensorflow:Layers in a Sequential model should only have a single input tensor, but we receive a <class 'collections.OrderedDict'> input: OrderedDict([('pickup_longitude', <tf.Tensor 'pickup_longitude:0' shape=(None, 1) dtype=float32>), ('pickup_latitude', <tf.Tensor 'pickup_latitude:0' shape=(None, 1) dtype=float32>), ('dropoff_longitude', <tf.Tensor 'dropoff_longitude:0' shape=(None, 1) dtype=float32>), ('dropoff_latitude', <tf.Tensor 'dropoff_latitude:0' shape=(None, 1) dtype=float32>), ('passenger_count', <tf.Tensor 'passenger_count:0' shape=(None, 1) dtype=float32>)])\n",
      "Consider rewriting this model with the Functional API.\n",
      "WARNING:tensorflow:Layers in a Sequential model should only have a single input tensor, but we receive a <class 'collections.OrderedDict'> input: OrderedDict([('pickup_longitude', <tf.Tensor 'pickup_longitude:0' shape=(None, 1) dtype=float32>), ('pickup_latitude', <tf.Tensor 'pickup_latitude:0' shape=(None, 1) dtype=float32>), ('dropoff_longitude', <tf.Tensor 'dropoff_longitude:0' shape=(None, 1) dtype=float32>), ('dropoff_latitude', <tf.Tensor 'dropoff_latitude:0' shape=(None, 1) dtype=float32>), ('passenger_count', <tf.Tensor 'passenger_count:0' shape=(None, 1) dtype=float32>)])\n",
      "Consider rewriting this model with the Functional API.\n",
      "INFO:tensorflow:Assets written to: ./export/savedmodel/20220227235931/assets\n",
      "INFO:tensorflow:Assets written to: ./export/savedmodel/20220227235931/assets\n"
     ]
    }
   ],
   "source": [
    "OUTPUT_DIR = \"./export/savedmodel\"\n",
    "shutil.rmtree(OUTPUT_DIR, ignore_errors=True)\n",
    "TIMESTAMP = datetime.datetime.now().strftime(\"%Y%m%d%H%M%S\")\n",
    "\n",
    "EXPORT_PATH = os.path.join(OUTPUT_DIR, TIMESTAMP)\n",
    "\n",
    "tf.saved_model.save(model, EXPORT_PATH)  # with default serving function"
   ]
  },
  {
   "cell_type": "code",
   "execution_count": null,
   "metadata": {
    "tags": [
     "flake8-noqa-cell"
    ]
   },
   "outputs": [
    {
     "name": "stdout",
     "output_type": "stream",
     "text": [
      "2022-02-27 23:59:33.551577: W tensorflow/stream_executor/platform/default/dso_loader.cc:59] Could not load dynamic library 'libcudart.so.10.1'; dlerror: libcudart.so.10.1: cannot open shared object file: No such file or directory; LD_LIBRARY_PATH: /usr/local/cuda/lib64:/usr/local/nccl2/lib:/usr/local/cuda/extras/CUPTI/lib64\n",
      "2022-02-27 23:59:33.551623: I tensorflow/stream_executor/cuda/cudart_stub.cc:29] Ignore above cudart dlerror if you do not have a GPU set up on your machine.\n",
      "The given SavedModel SignatureDef contains the following input(s):\n",
      "  inputs['dropoff_latitude'] tensor_info:\n",
      "      dtype: DT_FLOAT\n",
      "      shape: (-1, 1)\n",
      "      name: serving_default_dropoff_latitude:0\n",
      "  inputs['dropoff_longitude'] tensor_info:\n",
      "      dtype: DT_FLOAT\n",
      "      shape: (-1, 1)\n",
      "      name: serving_default_dropoff_longitude:0\n",
      "  inputs['passenger_count'] tensor_info:\n",
      "      dtype: DT_FLOAT\n",
      "      shape: (-1, 1)\n",
      "      name: serving_default_passenger_count:0\n",
      "  inputs['pickup_latitude'] tensor_info:\n",
      "      dtype: DT_FLOAT\n",
      "      shape: (-1, 1)\n",
      "      name: serving_default_pickup_latitude:0\n",
      "  inputs['pickup_longitude'] tensor_info:\n",
      "      dtype: DT_FLOAT\n",
      "      shape: (-1, 1)\n",
      "      name: serving_default_pickup_longitude:0\n",
      "The given SavedModel SignatureDef contains the following output(s):\n",
      "  outputs['output_1'] tensor_info:\n",
      "      dtype: DT_FLOAT\n",
      "      shape: (-1, 1)\n",
      "      name: StatefulPartitionedCall:0\n",
      "Method name is: tensorflow/serving/predict\n",
      "./export/savedmodel/20220227235931\n",
      "./export/savedmodel/20220227235931/variables\n",
      "./export/savedmodel/20220227235931/variables/variables.data-00000-of-00001\n",
      "./export/savedmodel/20220227235931/variables/variables.index\n",
      "./export/savedmodel/20220227235931/assets\n",
      "./export/savedmodel/20220227235931/saved_model.pb\n"
     ]
    }
   ],
   "source": [
    "!saved_model_cli show \\\n",
    "    --tag_set serve \\\n",
    "    --signature_def serving_default \\\n",
    "    --dir {EXPORT_PATH}\n",
    "\n",
    "!find {EXPORT_PATH}\n",
    "os.environ['EXPORT_PATH'] = EXPORT_PATH"
   ]
  },
  {
   "cell_type": "markdown",
   "metadata": {},
   "source": [
    "## Deploy our model to Vertex AI"
   ]
  },
  {
   "cell_type": "markdown",
   "metadata": {},
   "source": [
    "Finally, we will deploy our trained model to Vertex AI and see how we can make online predicitons. "
   ]
  },
  {
   "cell_type": "code",
   "execution_count": null,
   "metadata": {
    "tags": [
     "flake8-noqa-line-1",
     "flake8-noqa-line-8-E501"
    ]
   },
   "outputs": [
    {
     "name": "stdout",
     "output_type": "stream",
     "text": [
      "MODEL_DISPLAYNAME: taxifare-kerase-sequential20220227235931\n"
     ]
    }
   ],
   "source": [
    "PROJECT = !gcloud config list --format 'value(core.project)' 2>/dev/null\n",
    "PROJECT = PROJECT[0]\n",
    "BUCKET = PROJECT\n",
    "REGION = \"us-central1\"\n",
    "MODEL_DISPLAYNAME = f\"taxifare-kerase-sequential{TIMESTAMP}\"\n",
    "\n",
    "print(f\"MODEL_DISPLAYNAME: {MODEL_DISPLAYNAME}\")\n",
    "\n",
    "# from https://cloud.google.com/vertex-ai/docs/predictions/pre-built-containers\n",
    "SERVING_CONTAINER_IMAGE_URI = (\n",
    "    \"us-docker.pkg.dev/vertex-ai/prediction/tf2-cpu.2-3:latest\"\n",
    ")\n",
    "\n",
    "os.environ[\"BUCKET\"] = BUCKET\n",
    "os.environ[\"REGION\"] = REGION"
   ]
  },
  {
   "cell_type": "code",
   "execution_count": null,
   "metadata": {
    "tags": [
     "flake8-noqa-cell"
    ]
   },
   "outputs": [
    {
     "name": "stdout",
     "output_type": "stream",
     "text": [
      "Bucket exists, let's not recreate it.\n"
     ]
    }
   ],
   "source": [
    "%%bash\n",
    "# Create GCS bucket if it doesn't exist already...\n",
    "exists=$(gsutil ls -d | grep -w gs://${BUCKET}/)\n",
    "\n",
    "if [ -n \"$exists\" ]; then\n",
    "    echo -e \"Bucket exists, let's not recreate it.\"\n",
    "else\n",
    "    echo \"Creating a new GCS bucket.\"\n",
    "    gsutil mb -l ${REGION} gs://${BUCKET}\n",
    "    echo \"Here are your current buckets:\"\n",
    "    gsutil ls\n",
    "fi"
   ]
  },
  {
   "cell_type": "code",
   "execution_count": null,
   "metadata": {
    "tags": [
     "flake8-noqa-cell"
    ]
   },
   "outputs": [
    {
     "name": "stdout",
     "output_type": "stream",
     "text": [
      "Copying file://./export/savedmodel/20220227235931/saved_model.pb [Content-Type=application/octet-stream]...\n",
      "Copying file://./export/savedmodel/20220227235931/variables/variables.data-00000-of-00001 [Content-Type=application/octet-stream]...\n",
      "Copying file://./export/savedmodel/20220227235931/variables/variables.index [Content-Type=application/octet-stream]...\n",
      "/ [3 files][205.3 KiB/205.3 KiB]                                                \n",
      "Operation completed over 3 objects/205.3 KiB.                                    \n"
     ]
    }
   ],
   "source": [
    "!gsutil cp -R $EXPORT_PATH gs://$BUCKET/$MODEL_DISPLAYNAME"
   ]
  },
  {
   "cell_type": "code",
   "execution_count": null,
   "metadata": {},
   "outputs": [
    {
     "name": "stdout",
     "output_type": "stream",
     "text": [
      "INFO:google.cloud.aiplatform.models:Creating Model\n",
      "INFO:google.cloud.aiplatform.models:Create Model backing LRO: projects/333736501253/locations/us-central1/models/716885979356463104/operations/5773091973229445120\n",
      "INFO:google.cloud.aiplatform.models:Model created. Resource name: projects/333736501253/locations/us-central1/models/716885979356463104\n",
      "INFO:google.cloud.aiplatform.models:To use this Model in another session:\n",
      "INFO:google.cloud.aiplatform.models:model = aiplatform.Model('projects/333736501253/locations/us-central1/models/716885979356463104')\n"
     ]
    }
   ],
   "source": [
    "uploaded_model = aiplatform.Model.upload(\n",
    "    display_name=MODEL_DISPLAYNAME,\n",
    "    artifact_uri=f\"gs://{BUCKET}/{MODEL_DISPLAYNAME}\",\n",
    "    serving_container_image_uri=SERVING_CONTAINER_IMAGE_URI,\n",
    ")"
   ]
  },
  {
   "cell_type": "code",
   "execution_count": null,
   "metadata": {},
   "outputs": [
    {
     "name": "stdout",
     "output_type": "stream",
     "text": [
      "INFO:google.cloud.aiplatform.models:Creating Endpoint\n",
      "INFO:google.cloud.aiplatform.models:Create Endpoint backing LRO: projects/333736501253/locations/us-central1/endpoints/8266682571480367104/operations/7317826645417525248\n",
      "INFO:google.cloud.aiplatform.models:Endpoint created. Resource name: projects/333736501253/locations/us-central1/endpoints/8266682571480367104\n",
      "INFO:google.cloud.aiplatform.models:To use this Endpoint in another session:\n",
      "INFO:google.cloud.aiplatform.models:endpoint = aiplatform.Endpoint('projects/333736501253/locations/us-central1/endpoints/8266682571480367104')\n",
      "INFO:google.cloud.aiplatform.models:Deploying model to Endpoint : projects/333736501253/locations/us-central1/endpoints/8266682571480367104\n",
      "INFO:google.cloud.aiplatform.models:Deploy Endpoint model backing LRO: projects/333736501253/locations/us-central1/endpoints/8266682571480367104/operations/8110460179834732544\n",
      "INFO:google.cloud.aiplatform.models:Endpoint model deployed. Resource name: projects/333736501253/locations/us-central1/endpoints/8266682571480367104\n"
     ]
    }
   ],
   "source": [
    "MACHINE_TYPE = \"e2-standard-2\"\n",
    "\n",
    "endpoint = uploaded_model.deploy(\n",
    "    machine_type=MACHINE_TYPE,\n",
    "    accelerator_type=None,\n",
    "    accelerator_count=None,\n",
    ")"
   ]
  },
  {
   "cell_type": "code",
   "execution_count": null,
   "metadata": {},
   "outputs": [],
   "source": [
    "instance = {\n",
    "    \"pickup_longitude\": -73.982683,\n",
    "    \"pickup_latitude\": 40.742104,\n",
    "    \"dropoff_longitude\": -73.983766,\n",
    "    \"dropoff_latitude\": 40.755174,\n",
    "    \"passenger_count\": 3.0,\n",
    "}"
   ]
  },
  {
   "cell_type": "code",
   "execution_count": null,
   "metadata": {},
   "outputs": [
    {
     "data": {
      "text/plain": [
       "Prediction(predictions=[[12.0436659]], deployed_model_id='1669595212638322688', explanations=None)"
      ]
     },
     "execution_count": 55,
     "metadata": {},
     "output_type": "execute_result"
    }
   ],
   "source": [
    "endpoint.predict([instance])"
   ]
  },
  {
   "cell_type": "markdown",
   "metadata": {},
   "source": [
    "# Cleanup\n",
    "\n",
    "When deploying a model to an endpoint for online prediction, the minimum `min-replica-count` is 1, and it is charged per node hour. So let's delete the endpoint to reduce unnecessary charges. Before we can delete the endpoint, we first undeploy all attached models... "
   ]
  },
  {
   "cell_type": "code",
   "execution_count": null,
   "metadata": {},
   "outputs": [
    {
     "name": "stdout",
     "output_type": "stream",
     "text": [
      "INFO:google.cloud.aiplatform.models:Undeploying Endpoint model: projects/333736501253/locations/us-central1/endpoints/1809646605737918464\n",
      "INFO:google.cloud.aiplatform.models:Undeploy Endpoint model backing LRO: projects/333736501253/locations/us-central1/endpoints/1809646605737918464/operations/1963046688474005504\n",
      "INFO:google.cloud.aiplatform.models:Endpoint model undeployed. Resource name: projects/333736501253/locations/us-central1/endpoints/1809646605737918464\n"
     ]
    },
    {
     "data": {
      "text/plain": [
       "<google.cloud.aiplatform.models.Endpoint object at 0x7f07e9da8a50> \n",
       "resource name: projects/333736501253/locations/us-central1/endpoints/1809646605737918464"
      ]
     },
     "execution_count": 26,
     "metadata": {},
     "output_type": "execute_result"
    }
   ],
   "source": [
    "endpoint.undeploy_all()"
   ]
  },
  {
   "cell_type": "markdown",
   "metadata": {},
   "source": [
    "...then delete the endpoint."
   ]
  },
  {
   "cell_type": "code",
   "execution_count": null,
   "metadata": {},
   "outputs": [
    {
     "name": "stdout",
     "output_type": "stream",
     "text": [
      "INFO:google.cloud.aiplatform.base:Deleting Endpoint : projects/333736501253/locations/us-central1/endpoints/1809646605737918464\n",
      "INFO:google.cloud.aiplatform.base:Delete Endpoint  backing LRO: projects/333736501253/locations/us-central1/operations/1264988746231578624\n",
      "INFO:google.cloud.aiplatform.base:Endpoint deleted. . Resource name: projects/333736501253/locations/us-central1/endpoints/1809646605737918464\n"
     ]
    }
   ],
   "source": [
    "endpoint.delete()"
   ]
  },
  {
   "cell_type": "markdown",
   "metadata": {},
   "source": [
    "Copyright 2021 Google Inc. Licensed under the Apache License, Version 2.0 (the \"License\"); you may not use this file except in compliance with the License. You may obtain a copy of the License at http://www.apache.org/licenses/LICENSE-2.0 Unless required by applicable law or agreed to in writing, software distributed under the License is distributed on an \"AS IS\" BASIS, WITHOUT WARRANTIES OR CONDITIONS OF ANY KIND, either express or implied. See the License for the specific language governing permissions and limitations under the License"
   ]
  }
 ],
 "metadata": {
  "environment": {
   "kernel": "python3",
   "name": "tf2-gpu.2-6.m89",
   "type": "gcloud",
   "uri": "gcr.io/deeplearning-platform-release/tf2-gpu.2-6:m89"
  },
  "kernelspec": {
   "display_name": "myenv_ldconf",
   "language": "python",
   "name": "myenv_ldconf"
  },
  "language_info": {
   "codemirror_mode": {
    "name": "ipython",
    "version": 3
   },
   "file_extension": ".py",
   "mimetype": "text/x-python",
   "name": "python",
   "nbconvert_exporter": "python",
   "pygments_lexer": "ipython3",
   "version": "3.9.18"
  },
  "toc-autonumbering": true,
  "toc-showmarkdowntxt": false
 },
 "nbformat": 4,
 "nbformat_minor": 4
}
